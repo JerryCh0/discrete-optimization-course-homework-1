{
 "cells": [
  {
   "cell_type": "markdown",
   "metadata": {
    "deletable": true,
    "editable": true
   },
   "source": [
    "# Задание по курсу «Дискретная оптимизация», МФТИ, весна 2017"
   ]
  },
  {
   "cell_type": "markdown",
   "metadata": {
    "deletable": true,
    "editable": true
   },
   "source": [
    "## Задача 2-1. Применяем простейший локальный поиск.\n",
    "\n",
    "В этой задаче Вам предлагается попробовать стандартную технику локального поиска (local search) в применении к задаче о сбалансированном разбиении графа. Мы будем рассматривать безвесовый вариант задачи с параметром балансировки $\\alpha=\\frac{1}{2}$:\n",
    "\n",
    "**Даны:**\n",
    "* $G=(V,E)$ — граф без весов на рёбрах\n",
    "\n",
    "**Найти:**\n",
    "* Разбиение $V=V'\\sqcup V''$, такое, что $V'=\\lfloor |V|/2 \\rfloor$ и число рёбер между $V'$ и $V''$ минимально возможное.\n",
    "\n",
    "Сделайте следующее:\n",
    "* [Скачайте](http://mat.gsia.cmu.edu/COLOR/instances.html#XXMYC) файлы mycielX.col  (`for X in range(1,8)`).  (Если интересно, откуда такие графы берутся и чем интересны, см. конструкцию Зыкова—Мыцельского [здесь](https://docs.com/dainiak/3327).)\n",
    "* Для каждого из графов найдите локальным поиском локально минимальное (по количеству рёбер между частями) разбиение вершин графа на две части, мощности которых отличаются не более чем на единицу. \n",
    "* Ваша функция `basic_local_search` должна принимать на вход граф в формате, предоставляемом функцией `read_col_file`, и возвращать найденное локально минимальное разбиение просто как множество либо список вершин, лежащих в одной любой из двух компонент разбиения."
   ]
  },
  {
   "cell_type": "code",
   "execution_count": 1,
   "metadata": {
    "collapsed": true,
    "deletable": true,
    "editable": true
   },
   "outputs": [],
   "source": [
    "import random"
   ]
  },
  {
   "cell_type": "code",
   "execution_count": 2,
   "metadata": {
    "collapsed": true,
    "deletable": true,
    "editable": true
   },
   "outputs": [],
   "source": [
    "def read_col_file(filename):\n",
    "    with open(filename, 'r') as file:\n",
    "        vertices, edges = set(), set()\n",
    "        for line in file:\n",
    "            line = line.strip()\n",
    "            if line.startswith('p'):\n",
    "                vertices = set(range(1, int(line.split()[-2]) + 1))\n",
    "            elif line.startswith('e'):\n",
    "                edges.add(tuple(map(int, line.split()[-2:])))\n",
    "        return (vertices, edges)"
   ]
  },
  {
   "cell_type": "code",
   "execution_count": 30,
   "metadata": {
    "collapsed": false,
    "deletable": true,
    "editable": true
   },
   "outputs": [],
   "source": [
    "def random_partition(graph):\n",
    "    return set(random.sample(graph[0], len(graph[0]) // 2))\n",
    "\n",
    "def partition_weight(graph, partition):\n",
    "    weight = 0\n",
    "    for u, v in graph[1]:\n",
    "        if u in partition != v in partition:\n",
    "            weight += 1\n",
    "    return weight\n",
    "\n",
    "def local_candidates(graph, partition):\n",
    "    complement = graph[0] - partition\n",
    "    result = []\n",
    "    for u in partition:\n",
    "        for v in complement:\n",
    "            new_partition = set(partition)\n",
    "            new_partition.remove(u)\n",
    "            new_partition.add(v)\n",
    "            result.append(new_partition)\n",
    "    return result\n",
    "\n",
    "def optimal_candidate(graph, partition):\n",
    "    min_weight = partition_weight(graph, partition)\n",
    "    best_candidate = partition\n",
    "    candidates = local_candidates(graph, partition)\n",
    "    flag_new = False\n",
    "    for i, c in enumerate(candidates):\n",
    "        new_weight = partition_weight(graph, c)\n",
    "        if new_weight < min_weight:\n",
    "            min_weight = new_weight\n",
    "            best_candidate = c\n",
    "            flag_new = True\n",
    "    return (flag_new, best_candidate)\n",
    "    \n",
    "def basic_local_search(graph):\n",
    "    flag_change, partition = True, random_partition(graph)\n",
    "    while flag_change:\n",
    "        flag_change, partition = optimal_candidate(graph, partition)\n",
    "    return partition"
   ]
  },
  {
   "cell_type": "code",
   "execution_count": 31,
   "metadata": {
    "collapsed": false
   },
   "outputs": [
    {
     "name": "stdout",
     "output_type": "stream",
     "text": [
      "myciel3.col: {6, 7, 8, 9, 10}\n",
      "myciel4.col: {12, 13, 14, 15, 16, 17, 18, 19, 20, 21, 22}\n",
      "myciel5.col: {12, 13, 15, 17, 18, 19, 20, 21, 30, 31, 32, 33, 35, 36, 37, 38, 39, 40, 41, 42, 43, 44, 45}\n",
      "myciel6.col: {16, 17, 18, 19, 20, 21, 29, 30, 33, 35, 36, 37, 38, 39, 40, 41, 42, 43, 44, 45, 59, 60, 63, 64, 65, 66, 67, 68, 71, 72, 75, 76, 77, 78, 79, 80, 82, 83, 84, 85, 86, 87, 88, 89, 90, 91, 92}\n",
      "myciel7.col: {35, 36, 37, 38, 39, 40, 41, 42, 43, 44, 45, 63, 64, 65, 66, 67, 68, 73, 76, 77, 78, 79, 80, 82, 83, 84, 85, 86, 87, 88, 89, 90, 91, 92, 107, 109, 110, 112, 113, 114, 115, 116, 119, 120, 123, 124, 125, 126, 127, 128, 130, 131, 132, 133, 134, 135, 136, 137, 138, 139, 140, 154, 155, 156, 157, 158, 159, 160, 161, 162, 163, 164, 166, 167, 168, 169, 170, 171, 172, 173, 174, 175, 176, 177, 178, 179, 180, 181, 182, 183, 184, 185, 186, 187, 188}\n"
     ]
    }
   ],
   "source": [
    "for X in range (3, 8):\n",
    "    graph = read_col_file('coding-hometask-2-1-files/myciel{:d}.col'.format(X))\n",
    "    print(\"myciel{:d}.col:\".format(X), basic_local_search(graph))"
   ]
  }
 ],
 "metadata": {
  "kernelspec": {
   "display_name": "Python 3",
   "language": "python",
   "name": "python3"
  },
  "language_info": {
   "codemirror_mode": {
    "name": "ipython",
    "version": 3
   },
   "file_extension": ".py",
   "mimetype": "text/x-python",
   "name": "python",
   "nbconvert_exporter": "python",
   "pygments_lexer": "ipython3",
   "version": "3.5.2"
  }
 },
 "nbformat": 4,
 "nbformat_minor": 2
}
